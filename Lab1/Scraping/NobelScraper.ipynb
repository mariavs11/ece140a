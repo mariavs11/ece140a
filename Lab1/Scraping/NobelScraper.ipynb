import requests
from bs4 import BeautifulSoup


url = "https://www.nobelprize.org/nobel_prizes/lists/all/"
print("URL:", url)

# You can open this URL in your browser to check if the link opens to a valid page

# Extracting all the contents of the webpage to a soup
r = requests.get(url)
c = r.content
soup = BeautifulSoup(c,"html.parser")


text = soup.find_all('div',class_="by_year") # creates list, for each index there is a div with class="by_year"

list=[]

for i in range(len(text)): # for each div with class="by_year"
    for a in text[i].find_all('p'): # find all p within each div; every a accounts for a <p>
        work = a.text                       # first iteration, first p found. removes tags
        # get text between ""
        quotes = work.find('“') + 1 # finds location of first " occurrence
        work = work[quotes:-1]

        for x in a.find_all('a'):

            awardee = x.text # removes tags
            link = x.get('href') # get link
            nobel = link.find('/nobel_prizes/')
            prize = link.find('/prizes/')
            y1 = link.find('/2')
            laur = link.find('/laur')

            if prize == -1: # /prizes/ not found; /nobel_prizes/
                field = link[nobel+14:laur]
                year = link[laur+11:laur+15]



            if nobel == -1: # /nobel_prizes/ not found; /prizes/
                field = link[prize+8:y1]
                year = link[y1+1:y1+5] # only years starting with 2000

            list.append([awardee, field, year, work])



import csv

# open the file in the write mode
with open('/Users/mariavieira/Desktop/ece140a/Lab1/Scraping/nobel_laureates.csv', 'w') as f:
    # create the csv writer
    writer = csv.writer(f)

    # write a row to the csv file
    for i in list:
        writer.writerow(i)

#Look for year that Barack Obama won a nobel
for i, k in enumerate(list):
    if 'Barack H. Obama' in k:
        barackyear = list[i][2]
print("Barack Obama got his Nobel Peace Prize in "+ barackyear + ".")

for i, k in enumerate(list):
    if 'Ernest Rutherford' in k:
        ruthyear = list[i][2]
        work = list[i][3]
print("Ernest Rutherford got his Nobel Prize in "+ruthyear+" "+ work +".")
for i, k in enumerate(list):

    if 'physics' and '1939' in k:
        who = list[i][0]
print(who+" got the Prize for Physics in 1939.")


